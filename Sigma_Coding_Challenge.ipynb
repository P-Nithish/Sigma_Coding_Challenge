{
 "cells": [
  {
   "cell_type": "code",
   "execution_count": 2,
   "id": "84df3e65-4338-4fe8-b6cb-87dce9bb1499",
   "metadata": {
    "tags": []
   },
   "outputs": [],
   "source": [
    "from quantrocket.license import set_license"
   ]
  },
  {
   "cell_type": "code",
   "execution_count": 9,
   "id": "9e7275ad-b2f9-4e4f-b6ad-8d98e4d4dacc",
   "metadata": {
    "tags": []
   },
   "outputs": [
    {
     "data": {
      "text/plain": [
       "{'licensekey': '04e7........c94a', 'software_license': {}}"
      ]
     },
     "execution_count": 9,
     "metadata": {},
     "output_type": "execute_result"
    }
   ],
   "source": [
    "set_license(\"04e78c58-dfa8-11ee-ad12-51b9131ec94a\")"
   ]
  },
  {
   "cell_type": "code",
   "execution_count": null,
   "id": "03eb49d6-dd49-4b8f-990c-f74493536c6c",
   "metadata": {},
   "outputs": [],
   "source": [
    "from quantrocket.history import create_usstock_db\n",
    "create_usstock_db(\"usstock-free-1d\", bar_size=\"1 day\", free=True)"
   ]
  },
  {
   "cell_type": "code",
   "execution_count": 7,
   "id": "cdc4c27b-3e0a-4424-b25a-0fdd313099df",
   "metadata": {
    "tags": []
   },
   "outputs": [
    {
     "data": {
      "text/plain": [
       "{'status': 'the historical data will be collected asynchronously'}"
      ]
     },
     "execution_count": 7,
     "metadata": {},
     "output_type": "execute_result"
    }
   ],
   "source": [
    "from quantrocket.history import collect_history\n",
    "collect_history(\"usstock-free-1d\")"
   ]
  },
  {
   "cell_type": "code",
   "execution_count": 7,
   "id": "fb24bc2a-61c7-4caf-ab1f-0d6b7eb55a05",
   "metadata": {},
   "outputs": [
    {
     "data": {
      "text/html": [
       "<div>\n",
       "<style scoped>\n",
       "    .dataframe tbody tr th:only-of-type {\n",
       "        vertical-align: middle;\n",
       "    }\n",
       "\n",
       "    .dataframe tbody tr th {\n",
       "        vertical-align: top;\n",
       "    }\n",
       "\n",
       "    .dataframe thead th {\n",
       "        text-align: right;\n",
       "    }\n",
       "</style>\n",
       "<table border=\"1\" class=\"dataframe\">\n",
       "  <thead>\n",
       "    <tr style=\"text-align: right;\">\n",
       "      <th></th>\n",
       "      <th>Symbol</th>\n",
       "      <th>Exchange</th>\n",
       "      <th>Country</th>\n",
       "      <th>Currency</th>\n",
       "      <th>SecType</th>\n",
       "      <th>Etf</th>\n",
       "      <th>Timezone</th>\n",
       "      <th>Name</th>\n",
       "      <th>PriceMagnifier</th>\n",
       "      <th>Multiplier</th>\n",
       "      <th>Delisted</th>\n",
       "      <th>DateDelisted</th>\n",
       "      <th>LastTradeDate</th>\n",
       "      <th>RolloverDate</th>\n",
       "    </tr>\n",
       "    <tr>\n",
       "      <th>Sid</th>\n",
       "      <th></th>\n",
       "      <th></th>\n",
       "      <th></th>\n",
       "      <th></th>\n",
       "      <th></th>\n",
       "      <th></th>\n",
       "      <th></th>\n",
       "      <th></th>\n",
       "      <th></th>\n",
       "      <th></th>\n",
       "      <th></th>\n",
       "      <th></th>\n",
       "      <th></th>\n",
       "      <th></th>\n",
       "    </tr>\n",
       "  </thead>\n",
       "  <tbody>\n",
       "    <tr>\n",
       "      <th>FIBBG000B9XRY4</th>\n",
       "      <td>AAPL</td>\n",
       "      <td>XNAS</td>\n",
       "      <td>US</td>\n",
       "      <td>USD</td>\n",
       "      <td>STK</td>\n",
       "      <td>False</td>\n",
       "      <td>America/New_York</td>\n",
       "      <td>APPLE INC</td>\n",
       "      <td>1</td>\n",
       "      <td>1</td>\n",
       "      <td>False</td>\n",
       "      <td>NaT</td>\n",
       "      <td>NaT</td>\n",
       "      <td>NaT</td>\n",
       "    </tr>\n",
       "    <tr>\n",
       "      <th>FIBBG000BFWKC0</th>\n",
       "      <td>MON</td>\n",
       "      <td>XNYS</td>\n",
       "      <td>US</td>\n",
       "      <td>USD</td>\n",
       "      <td>STK</td>\n",
       "      <td>False</td>\n",
       "      <td>America/New_York</td>\n",
       "      <td>MONSANTO CO</td>\n",
       "      <td>1</td>\n",
       "      <td>1</td>\n",
       "      <td>True</td>\n",
       "      <td>2018-06-06</td>\n",
       "      <td>NaT</td>\n",
       "      <td>NaT</td>\n",
       "    </tr>\n",
       "    <tr>\n",
       "      <th>FIBBG000BKZB36</th>\n",
       "      <td>HD</td>\n",
       "      <td>XNYS</td>\n",
       "      <td>US</td>\n",
       "      <td>USD</td>\n",
       "      <td>STK</td>\n",
       "      <td>False</td>\n",
       "      <td>America/New_York</td>\n",
       "      <td>HOME DEPOT INC</td>\n",
       "      <td>1</td>\n",
       "      <td>1</td>\n",
       "      <td>False</td>\n",
       "      <td>NaT</td>\n",
       "      <td>NaT</td>\n",
       "      <td>NaT</td>\n",
       "    </tr>\n",
       "    <tr>\n",
       "      <th>FIBBG000BMHYD1</th>\n",
       "      <td>JNJ</td>\n",
       "      <td>XNYS</td>\n",
       "      <td>US</td>\n",
       "      <td>USD</td>\n",
       "      <td>STK</td>\n",
       "      <td>False</td>\n",
       "      <td>America/New_York</td>\n",
       "      <td>JOHNSON &amp; JOHNSON</td>\n",
       "      <td>1</td>\n",
       "      <td>1</td>\n",
       "      <td>False</td>\n",
       "      <td>NaT</td>\n",
       "      <td>NaT</td>\n",
       "      <td>NaT</td>\n",
       "    </tr>\n",
       "    <tr>\n",
       "      <th>FIBBG000BPH459</th>\n",
       "      <td>MSFT</td>\n",
       "      <td>XNAS</td>\n",
       "      <td>US</td>\n",
       "      <td>USD</td>\n",
       "      <td>STK</td>\n",
       "      <td>False</td>\n",
       "      <td>America/New_York</td>\n",
       "      <td>MICROSOFT CORP</td>\n",
       "      <td>1</td>\n",
       "      <td>1</td>\n",
       "      <td>False</td>\n",
       "      <td>NaT</td>\n",
       "      <td>NaT</td>\n",
       "      <td>NaT</td>\n",
       "    </tr>\n",
       "  </tbody>\n",
       "</table>\n",
       "</div>"
      ],
      "text/plain": [
       "               Symbol Exchange Country Currency SecType    Etf  \\\n",
       "Sid                                                              \n",
       "FIBBG000B9XRY4   AAPL     XNAS      US      USD     STK  False   \n",
       "FIBBG000BFWKC0    MON     XNYS      US      USD     STK  False   \n",
       "FIBBG000BKZB36     HD     XNYS      US      USD     STK  False   \n",
       "FIBBG000BMHYD1    JNJ     XNYS      US      USD     STK  False   \n",
       "FIBBG000BPH459   MSFT     XNAS      US      USD     STK  False   \n",
       "\n",
       "                        Timezone               Name  PriceMagnifier  \\\n",
       "Sid                                                                   \n",
       "FIBBG000B9XRY4  America/New_York          APPLE INC               1   \n",
       "FIBBG000BFWKC0  America/New_York        MONSANTO CO               1   \n",
       "FIBBG000BKZB36  America/New_York     HOME DEPOT INC               1   \n",
       "FIBBG000BMHYD1  America/New_York  JOHNSON & JOHNSON               1   \n",
       "FIBBG000BPH459  America/New_York     MICROSOFT CORP               1   \n",
       "\n",
       "                Multiplier  Delisted DateDelisted LastTradeDate RolloverDate  \n",
       "Sid                                                                           \n",
       "FIBBG000B9XRY4           1     False          NaT           NaT          NaT  \n",
       "FIBBG000BFWKC0           1      True   2018-06-06           NaT          NaT  \n",
       "FIBBG000BKZB36           1     False          NaT           NaT          NaT  \n",
       "FIBBG000BMHYD1           1     False          NaT           NaT          NaT  \n",
       "FIBBG000BPH459           1     False          NaT           NaT          NaT  "
      ]
     },
     "execution_count": 7,
     "metadata": {},
     "output_type": "execute_result"
    }
   ],
   "source": [
    "from quantrocket.master import get_securities\n",
    "# by specifying sec_types='STK', we exclude ETFs, which are present in the sample data \n",
    "securities = get_securities(vendors=\"usstock\", sec_types=\"STK\")\n",
    "securities.head()"
   ]
  },
  {
   "cell_type": "code",
   "execution_count": 8,
   "id": "950aee87-4d3a-4b47-a371-d4e1f8bc096a",
   "metadata": {},
   "outputs": [
    {
     "ename": "HTTPError",
     "evalue": "('400 Client Error: BAD REQUEST for url: http://houston/master/universes/usstock-free?sids=FIBBG000B9XRY4&sids=FIBBG000BFWKC0&sids=FIBBG000BKZB36&sids=FIBBG000BMHYD1&sids=FIBBG000BPH459&sids=FIBBG000CK38G3&sids=FIBBG000GZQ728&sids=FIBBG00B3T3HD3', {'status': 'error', 'msg': \"universe 'usstock-free' already exists, please indicate whether to replace it or append to it\"})",
     "output_type": "error",
     "traceback": [
      "\u001b[0;31m---------------------------------------------------------------------------\u001b[0m",
      "\u001b[0;31mHTTPError\u001b[0m                                 Traceback (most recent call last)",
      "Input \u001b[0;32mIn [8]\u001b[0m, in \u001b[0;36m<cell line: 2>\u001b[0;34m()\u001b[0m\n\u001b[1;32m      1\u001b[0m \u001b[38;5;28;01mfrom\u001b[39;00m \u001b[38;5;21;01mquantrocket\u001b[39;00m\u001b[38;5;21;01m.\u001b[39;00m\u001b[38;5;21;01mmaster\u001b[39;00m \u001b[38;5;28;01mimport\u001b[39;00m create_universe\n\u001b[0;32m----> 2\u001b[0m \u001b[43mcreate_universe\u001b[49m\u001b[43m(\u001b[49m\u001b[38;5;124;43m\"\u001b[39;49m\u001b[38;5;124;43musstock-free\u001b[39;49m\u001b[38;5;124;43m\"\u001b[39;49m\u001b[43m,\u001b[49m\u001b[43m \u001b[49m\u001b[43msids\u001b[49m\u001b[38;5;241;43m=\u001b[39;49m\u001b[43msecurities\u001b[49m\u001b[38;5;241;43m.\u001b[39;49m\u001b[43mindex\u001b[49m\u001b[38;5;241;43m.\u001b[39;49m\u001b[43mtolist\u001b[49m\u001b[43m(\u001b[49m\u001b[43m)\u001b[49m\u001b[43m)\u001b[49m\n",
      "File \u001b[0;32m/opt/conda/lib/python3.9/site-packages/quantrocket/master.py:1207\u001b[0m, in \u001b[0;36mcreate_universe\u001b[0;34m(code, infilepath_or_buffer, sids, from_universes, exclude_delisted, append, replace)\u001b[0m\n\u001b[1;32m   1204\u001b[0m \u001b[38;5;28;01melse\u001b[39;00m:\n\u001b[1;32m   1205\u001b[0m     response \u001b[38;5;241m=\u001b[39m houston\u001b[38;5;241m.\u001b[39mrequest(method, url, params\u001b[38;5;241m=\u001b[39mparams)\n\u001b[0;32m-> 1207\u001b[0m \u001b[43mhouston\u001b[49m\u001b[38;5;241;43m.\u001b[39;49m\u001b[43mraise_for_status_with_json\u001b[49m\u001b[43m(\u001b[49m\u001b[43mresponse\u001b[49m\u001b[43m)\u001b[49m\n\u001b[1;32m   1208\u001b[0m \u001b[38;5;28;01mreturn\u001b[39;00m response\u001b[38;5;241m.\u001b[39mjson()\n",
      "File \u001b[0;32m/opt/conda/lib/python3.9/site-packages/quantrocket/houston.py:225\u001b[0m, in \u001b[0;36mHouston.raise_for_status_with_json\u001b[0;34m(response)\u001b[0m\n\u001b[1;32m    223\u001b[0m     e\u001b[38;5;241m.\u001b[39mjson_response \u001b[38;5;241m=\u001b[39m {}\n\u001b[1;32m    224\u001b[0m     e\u001b[38;5;241m.\u001b[39margs \u001b[38;5;241m=\u001b[39m e\u001b[38;5;241m.\u001b[39margs \u001b[38;5;241m+\u001b[39m (\u001b[38;5;124m\"\u001b[39m\u001b[38;5;124mplease check the logs for more details\u001b[39m\u001b[38;5;124m\"\u001b[39m,)\n\u001b[0;32m--> 225\u001b[0m \u001b[38;5;28;01mraise\u001b[39;00m e\n",
      "File \u001b[0;32m/opt/conda/lib/python3.9/site-packages/quantrocket/houston.py:217\u001b[0m, in \u001b[0;36mHouston.raise_for_status_with_json\u001b[0;34m(response)\u001b[0m\n\u001b[1;32m    212\u001b[0m \u001b[38;5;250m\u001b[39m\u001b[38;5;124;03m\"\"\"\u001b[39;00m\n\u001b[1;32m    213\u001b[0m \u001b[38;5;124;03mRaises 400/500 error codes, attaching a json response to the\u001b[39;00m\n\u001b[1;32m    214\u001b[0m \u001b[38;5;124;03mexception, if possible.\u001b[39;00m\n\u001b[1;32m    215\u001b[0m \u001b[38;5;124;03m\"\"\"\u001b[39;00m\n\u001b[1;32m    216\u001b[0m \u001b[38;5;28;01mtry\u001b[39;00m:\n\u001b[0;32m--> 217\u001b[0m     \u001b[43mresponse\u001b[49m\u001b[38;5;241;43m.\u001b[39;49m\u001b[43mraise_for_status\u001b[49m\u001b[43m(\u001b[49m\u001b[43m)\u001b[49m\n\u001b[1;32m    218\u001b[0m \u001b[38;5;28;01mexcept\u001b[39;00m requests\u001b[38;5;241m.\u001b[39mexceptions\u001b[38;5;241m.\u001b[39mHTTPError \u001b[38;5;28;01mas\u001b[39;00m e:\n\u001b[1;32m    219\u001b[0m     \u001b[38;5;28;01mtry\u001b[39;00m:\n",
      "File \u001b[0;32m/opt/conda/lib/python3.9/site-packages/requests/models.py:1021\u001b[0m, in \u001b[0;36mResponse.raise_for_status\u001b[0;34m(self)\u001b[0m\n\u001b[1;32m   1016\u001b[0m     http_error_msg \u001b[38;5;241m=\u001b[39m (\n\u001b[1;32m   1017\u001b[0m         \u001b[38;5;124mf\u001b[39m\u001b[38;5;124m\"\u001b[39m\u001b[38;5;132;01m{\u001b[39;00m\u001b[38;5;28mself\u001b[39m\u001b[38;5;241m.\u001b[39mstatus_code\u001b[38;5;132;01m}\u001b[39;00m\u001b[38;5;124m Server Error: \u001b[39m\u001b[38;5;132;01m{\u001b[39;00mreason\u001b[38;5;132;01m}\u001b[39;00m\u001b[38;5;124m for url: \u001b[39m\u001b[38;5;132;01m{\u001b[39;00m\u001b[38;5;28mself\u001b[39m\u001b[38;5;241m.\u001b[39murl\u001b[38;5;132;01m}\u001b[39;00m\u001b[38;5;124m\"\u001b[39m\n\u001b[1;32m   1018\u001b[0m     )\n\u001b[1;32m   1020\u001b[0m \u001b[38;5;28;01mif\u001b[39;00m http_error_msg:\n\u001b[0;32m-> 1021\u001b[0m     \u001b[38;5;28;01mraise\u001b[39;00m HTTPError(http_error_msg, response\u001b[38;5;241m=\u001b[39m\u001b[38;5;28mself\u001b[39m)\n",
      "\u001b[0;31mHTTPError\u001b[0m: ('400 Client Error: BAD REQUEST for url: http://houston/master/universes/usstock-free?sids=FIBBG000B9XRY4&sids=FIBBG000BFWKC0&sids=FIBBG000BKZB36&sids=FIBBG000BMHYD1&sids=FIBBG000BPH459&sids=FIBBG000CK38G3&sids=FIBBG000GZQ728&sids=FIBBG00B3T3HD3', {'status': 'error', 'msg': \"universe 'usstock-free' already exists, please indicate whether to replace it or append to it\"})"
     ]
    }
   ],
   "source": [
    "from quantrocket.master import create_universe\n",
    "create_universe(\"usstock-free\", sids=securities.index.tolist())"
   ]
  },
  {
   "cell_type": "code",
   "execution_count": 2,
   "id": "398a1dbc-220d-40a6-b508-2db96ecf12c0",
   "metadata": {
    "tags": []
   },
   "outputs": [
    {
     "ename": "NameError",
     "evalue": "name 'securities' is not defined",
     "output_type": "error",
     "traceback": [
      "\u001b[0;31m---------------------------------------------------------------------------\u001b[0m",
      "\u001b[0;31mNameError\u001b[0m                                 Traceback (most recent call last)",
      "Input \u001b[0;32mIn [2]\u001b[0m, in \u001b[0;36m<cell line: 1>\u001b[0;34m()\u001b[0m\n\u001b[0;32m----> 1\u001b[0m filtered_securities \u001b[38;5;241m=\u001b[39m \u001b[43msecurities\u001b[49m[securities\u001b[38;5;241m.\u001b[39mSymbol\u001b[38;5;241m==\u001b[39m\u001b[38;5;124m\"\u001b[39m\u001b[38;5;124mAAPL\u001b[39m\u001b[38;5;124m\"\u001b[39m]\n\u001b[1;32m      2\u001b[0m filtered_securities \u001b[38;5;241m=\u001b[39m filtered_securities[[\u001b[38;5;124m\"\u001b[39m\u001b[38;5;124mSymbol\u001b[39m\u001b[38;5;124m\"\u001b[39m, \u001b[38;5;124m\"\u001b[39m\u001b[38;5;124mExchange\u001b[39m\u001b[38;5;124m\"\u001b[39m, \u001b[38;5;124m\"\u001b[39m\u001b[38;5;124mName\u001b[39m\u001b[38;5;124m\"\u001b[39m, \u001b[38;5;124m\"\u001b[39m\u001b[38;5;124mDelisted\u001b[39m\u001b[38;5;124m\"\u001b[39m]]\n\u001b[1;32m      3\u001b[0m filtered_securities\u001b[38;5;241m.\u001b[39mhead()\n",
      "\u001b[0;31mNameError\u001b[0m: name 'securities' is not defined"
     ]
    }
   ],
   "source": [
    "filtered_securities = securities[securities.Symbol==\"AAPL\"]\n",
    "filtered_securities = filtered_securities[[\"Symbol\", \"Exchange\", \"Name\", \"Delisted\"]]\n",
    "filtered_securities.head()"
   ]
  },
  {
   "cell_type": "code",
   "execution_count": 29,
   "id": "6f127e4b-909f-4936-bc06-9975bec72279",
   "metadata": {
    "tags": []
   },
   "outputs": [
    {
     "data": {
      "text/plain": [
       "{'code': 'usstock-free-active1',\n",
       " 'provided': 1,\n",
       " 'inserted': 1,\n",
       " 'total_after_insert': 1}"
      ]
     },
     "execution_count": 29,
     "metadata": {},
     "output_type": "execute_result"
    }
   ],
   "source": [
    "create_universe(\"usstock-free-active1\", sids=filtered_securities.index.tolist())"
   ]
  },
  {
   "cell_type": "markdown",
   "id": "e8cabef7-bd32-40eb-8029-a84ba5994621",
   "metadata": {
    "tags": []
   },
   "source": [
    "# **Price data of Apple stock for the year 2023**"
   ]
  },
  {
   "cell_type": "code",
   "execution_count": 9,
   "id": "76f84394-7351-4ee3-bedf-64dc2ae846dd",
   "metadata": {
    "tags": []
   },
   "outputs": [
    {
     "data": {
      "text/html": [
       "<div>\n",
       "<style scoped>\n",
       "    .dataframe tbody tr th:only-of-type {\n",
       "        vertical-align: middle;\n",
       "    }\n",
       "\n",
       "    .dataframe tbody tr th {\n",
       "        vertical-align: top;\n",
       "    }\n",
       "\n",
       "    .dataframe thead th {\n",
       "        text-align: right;\n",
       "    }\n",
       "</style>\n",
       "<table border=\"1\" class=\"dataframe\">\n",
       "  <thead>\n",
       "    <tr style=\"text-align: right;\">\n",
       "      <th></th>\n",
       "      <th>Sid</th>\n",
       "      <th>FIBBG000B9XRY4</th>\n",
       "    </tr>\n",
       "    <tr>\n",
       "      <th>Field</th>\n",
       "      <th>Date</th>\n",
       "      <th></th>\n",
       "    </tr>\n",
       "  </thead>\n",
       "  <tbody>\n",
       "    <tr>\n",
       "      <th rowspan=\"11\" valign=\"top\">Close</th>\n",
       "      <th>2023-01-03</th>\n",
       "      <td>124.2163</td>\n",
       "    </tr>\n",
       "    <tr>\n",
       "      <th>2023-01-04</th>\n",
       "      <td>125.4975</td>\n",
       "    </tr>\n",
       "    <tr>\n",
       "      <th>2023-01-05</th>\n",
       "      <td>124.1666</td>\n",
       "    </tr>\n",
       "    <tr>\n",
       "      <th>2023-01-06</th>\n",
       "      <td>128.7352</td>\n",
       "    </tr>\n",
       "    <tr>\n",
       "      <th>2023-01-09</th>\n",
       "      <td>129.2616</td>\n",
       "    </tr>\n",
       "    <tr>\n",
       "      <th>...</th>\n",
       "      <td>...</td>\n",
       "    </tr>\n",
       "    <tr>\n",
       "      <th>2023-05-19</th>\n",
       "      <td>174.4710</td>\n",
       "    </tr>\n",
       "    <tr>\n",
       "      <th>2023-05-22</th>\n",
       "      <td>173.5148</td>\n",
       "    </tr>\n",
       "    <tr>\n",
       "      <th>2023-05-23</th>\n",
       "      <td>170.8852</td>\n",
       "    </tr>\n",
       "    <tr>\n",
       "      <th>2023-05-24</th>\n",
       "      <td>171.1641</td>\n",
       "    </tr>\n",
       "    <tr>\n",
       "      <th>2023-05-25</th>\n",
       "      <td>172.3095</td>\n",
       "    </tr>\n",
       "  </tbody>\n",
       "</table>\n",
       "<p>100 rows × 1 columns</p>\n",
       "</div>"
      ],
      "text/plain": [
       "Sid               FIBBG000B9XRY4\n",
       "Field Date                      \n",
       "Close 2023-01-03        124.2163\n",
       "      2023-01-04        125.4975\n",
       "      2023-01-05        124.1666\n",
       "      2023-01-06        128.7352\n",
       "      2023-01-09        129.2616\n",
       "...                          ...\n",
       "      2023-05-19        174.4710\n",
       "      2023-05-22        173.5148\n",
       "      2023-05-23        170.8852\n",
       "      2023-05-24        171.1641\n",
       "      2023-05-25        172.3095\n",
       "\n",
       "[100 rows x 1 columns]"
      ]
     },
     "execution_count": 9,
     "metadata": {},
     "output_type": "execute_result"
    }
   ],
   "source": [
    "from quantrocket import get_prices\n",
    "prices = get_prices(\"usstock-free-1d\", universes=\"usstock-free-active1\", start_date=\"2023-01-01\", end_date=\"2023-12-31\", fields=[\"Close\"])\n",
    "prices.head(100)"
   ]
  },
  {
   "cell_type": "code",
   "execution_count": 11,
   "id": "824b8582-9539-4c81-bb7e-936130866490",
   "metadata": {
    "tags": []
   },
   "outputs": [],
   "source": [
    "prices.to_csv(\"appleStock.csv\")\n",
    "import pandas as pd"
   ]
  },
  {
   "cell_type": "code",
   "execution_count": 12,
   "id": "24bccff4-eb82-4cbd-ab1b-41344990a865",
   "metadata": {
    "tags": []
   },
   "outputs": [],
   "source": [
    "df = pd.read_csv(\"appleStock.csv\",parse_dates=True)\n",
    "df.set_index('Date', inplace=True)\n",
    "df = df.drop([\"Field\"],axis=\"columns\")"
   ]
  },
  {
   "cell_type": "code",
   "execution_count": 13,
   "id": "c0041ab2-a6d8-4b16-aa06-4d8a8784844a",
   "metadata": {
    "tags": []
   },
   "outputs": [
    {
     "name": "stdout",
     "output_type": "stream",
     "text": [
      "            close_price\n",
      "Date                   \n",
      "2023-01-03     124.2163\n",
      "2023-01-04     125.4975\n",
      "2023-01-05     124.1666\n",
      "2023-01-06     128.7352\n",
      "2023-01-09     129.2616\n",
      "...                 ...\n",
      "2023-12-22     193.3533\n",
      "2023-12-26     192.8040\n",
      "2023-12-27     192.9038\n",
      "2023-12-28     193.3333\n",
      "2023-12-29     192.2846\n",
      "\n",
      "[250 rows x 1 columns]\n"
     ]
    }
   ],
   "source": [
    "df.rename(columns={'FIBBG000B9XRY4': 'close_price'}, inplace=True)\n",
    "\n",
    "print(df)"
   ]
  },
  {
   "cell_type": "markdown",
   "id": "12b641ff-7a64-40a5-8641-6ed32928a895",
   "metadata": {},
   "source": [
    "# **Calculating Returns and Classifying the States**"
   ]
  },
  {
   "cell_type": "code",
   "execution_count": 14,
   "id": "893fac68-6724-4ee4-8f0e-9f4685614c2d",
   "metadata": {
    "tags": []
   },
   "outputs": [],
   "source": [
    "df['Returns'] = df['close_price'].pct_change()"
   ]
  },
  {
   "cell_type": "code",
   "execution_count": 15,
   "id": "8a8de152-1df8-4652-9d52-ee4085f5746f",
   "metadata": {
    "tags": []
   },
   "outputs": [],
   "source": [
    "def classify_state(return_val):\n",
    "    if return_val >= 0.01:\n",
    "        return 1  \n",
    "    elif return_val > -0.01:\n",
    "        return 0  \n",
    "    else:\n",
    "        return -1\n",
    "\n",
    "df['State'] = df['Returns'].apply(classify_state)\n"
   ]
  },
  {
   "cell_type": "code",
   "execution_count": 16,
   "id": "e2d95ff4-57fb-4c32-a3f5-19bd4813868f",
   "metadata": {
    "tags": []
   },
   "outputs": [
    {
     "data": {
      "text/html": [
       "<div>\n",
       "<style scoped>\n",
       "    .dataframe tbody tr th:only-of-type {\n",
       "        vertical-align: middle;\n",
       "    }\n",
       "\n",
       "    .dataframe tbody tr th {\n",
       "        vertical-align: top;\n",
       "    }\n",
       "\n",
       "    .dataframe thead th {\n",
       "        text-align: right;\n",
       "    }\n",
       "</style>\n",
       "<table border=\"1\" class=\"dataframe\">\n",
       "  <thead>\n",
       "    <tr style=\"text-align: right;\">\n",
       "      <th></th>\n",
       "      <th>close_price</th>\n",
       "      <th>Returns</th>\n",
       "      <th>State</th>\n",
       "      <th>State_name</th>\n",
       "    </tr>\n",
       "    <tr>\n",
       "      <th>Date</th>\n",
       "      <th></th>\n",
       "      <th></th>\n",
       "      <th></th>\n",
       "      <th></th>\n",
       "    </tr>\n",
       "  </thead>\n",
       "  <tbody>\n",
       "    <tr>\n",
       "      <th>2023-01-03</th>\n",
       "      <td>124.2163</td>\n",
       "      <td>NaN</td>\n",
       "      <td>-1</td>\n",
       "      <td>Bear</td>\n",
       "    </tr>\n",
       "    <tr>\n",
       "      <th>2023-01-04</th>\n",
       "      <td>125.4975</td>\n",
       "      <td>0.010314</td>\n",
       "      <td>1</td>\n",
       "      <td>Bull</td>\n",
       "    </tr>\n",
       "    <tr>\n",
       "      <th>2023-01-05</th>\n",
       "      <td>124.1666</td>\n",
       "      <td>-0.010605</td>\n",
       "      <td>-1</td>\n",
       "      <td>Bear</td>\n",
       "    </tr>\n",
       "    <tr>\n",
       "      <th>2023-01-06</th>\n",
       "      <td>128.7352</td>\n",
       "      <td>0.036794</td>\n",
       "      <td>1</td>\n",
       "      <td>Bull</td>\n",
       "    </tr>\n",
       "    <tr>\n",
       "      <th>2023-01-09</th>\n",
       "      <td>129.2616</td>\n",
       "      <td>0.004089</td>\n",
       "      <td>0</td>\n",
       "      <td>Flat</td>\n",
       "    </tr>\n",
       "    <tr>\n",
       "      <th>...</th>\n",
       "      <td>...</td>\n",
       "      <td>...</td>\n",
       "      <td>...</td>\n",
       "      <td>...</td>\n",
       "    </tr>\n",
       "    <tr>\n",
       "      <th>2023-12-22</th>\n",
       "      <td>193.3533</td>\n",
       "      <td>-0.005547</td>\n",
       "      <td>0</td>\n",
       "      <td>Flat</td>\n",
       "    </tr>\n",
       "    <tr>\n",
       "      <th>2023-12-26</th>\n",
       "      <td>192.8040</td>\n",
       "      <td>-0.002841</td>\n",
       "      <td>0</td>\n",
       "      <td>Flat</td>\n",
       "    </tr>\n",
       "    <tr>\n",
       "      <th>2023-12-27</th>\n",
       "      <td>192.9038</td>\n",
       "      <td>0.000518</td>\n",
       "      <td>0</td>\n",
       "      <td>Flat</td>\n",
       "    </tr>\n",
       "    <tr>\n",
       "      <th>2023-12-28</th>\n",
       "      <td>193.3333</td>\n",
       "      <td>0.002226</td>\n",
       "      <td>0</td>\n",
       "      <td>Flat</td>\n",
       "    </tr>\n",
       "    <tr>\n",
       "      <th>2023-12-29</th>\n",
       "      <td>192.2846</td>\n",
       "      <td>-0.005424</td>\n",
       "      <td>0</td>\n",
       "      <td>Flat</td>\n",
       "    </tr>\n",
       "  </tbody>\n",
       "</table>\n",
       "<p>250 rows × 4 columns</p>\n",
       "</div>"
      ],
      "text/plain": [
       "            close_price   Returns  State State_name\n",
       "Date                                               \n",
       "2023-01-03     124.2163       NaN     -1       Bear\n",
       "2023-01-04     125.4975  0.010314      1       Bull\n",
       "2023-01-05     124.1666 -0.010605     -1       Bear\n",
       "2023-01-06     128.7352  0.036794      1       Bull\n",
       "2023-01-09     129.2616  0.004089      0       Flat\n",
       "...                 ...       ...    ...        ...\n",
       "2023-12-22     193.3533 -0.005547      0       Flat\n",
       "2023-12-26     192.8040 -0.002841      0       Flat\n",
       "2023-12-27     192.9038  0.000518      0       Flat\n",
       "2023-12-28     193.3333  0.002226      0       Flat\n",
       "2023-12-29     192.2846 -0.005424      0       Flat\n",
       "\n",
       "[250 rows x 4 columns]"
      ]
     },
     "execution_count": 16,
     "metadata": {},
     "output_type": "execute_result"
    }
   ],
   "source": [
    "def return_classify(state):\n",
    "    if state==1:\n",
    "        return \"Bull\"\n",
    "    elif state==0:\n",
    "        return \"Flat\"\n",
    "    else:\n",
    "        return \"Bear\"\n",
    "    \n",
    "df['State_name'] = df['State'].apply(return_classify)\n"
   ]
  },
  {
   "cell_type": "markdown",
   "id": "e3bedbb3-a52a-47bc-bc63-8069528a00f8",
   "metadata": {},
   "source": [
    "# Calculating **\"Portfolio\"** Value using the given conditions"
   ]
  },
  {
   "cell_type": "code",
   "execution_count": 18,
   "id": "6ba80235-a708-42ba-aeb9-b65b197deb89",
   "metadata": {
    "tags": []
   },
   "outputs": [
    {
     "name": "stdout",
     "output_type": "stream",
     "text": [
      "18\n",
      "            close_price   Returns  State State_name  Portfolio\n",
      "Date                                                          \n",
      "2023-01-03     124.2163       NaN     -1       Bear          0\n",
      "2023-01-04     125.4975  0.010314      1       Bull          0\n",
      "2023-01-05     124.1666 -0.010605     -1       Bear          0\n",
      "2023-01-06     128.7352  0.036794      1       Bull          0\n",
      "2023-01-09     129.2616  0.004089      0       Flat          0\n",
      "...                 ...       ...    ...        ...        ...\n",
      "2023-12-22     193.3533 -0.005547      0       Flat         17\n",
      "2023-12-26     192.8040 -0.002841      0       Flat         17\n",
      "2023-12-27     192.9038  0.000518      0       Flat         17\n",
      "2023-12-28     193.3333  0.002226      0       Flat         17\n",
      "2023-12-29     192.2846 -0.005424      0       Flat         17\n",
      "\n",
      "[250 rows x 5 columns]\n"
     ]
    }
   ],
   "source": [
    "def classify_value(state1,state2,v):\n",
    "    if state1 ==1 and state2 ==0:\n",
    "        return v+1\n",
    "    elif state1==-1 and state2==0:\n",
    "        return v-1\n",
    "    else:\n",
    "        return v\n",
    "    \n",
    "df['Portfolio']=0\n",
    "for i in range(1, len(df)):\n",
    "    df.at[df.index[i], 'Portfolio'] = classify_value(df.at[df.index[i], 'State'], df.at[df.index[i-1], 'State'], df.at[df.index[i-1], 'Portfolio'])\n",
    "print(df['Portfolio'].max())\n",
    "print(df)"
   ]
  },
  {
   "cell_type": "code",
   "execution_count": 194,
   "id": "e208ecb1-3409-4e08-ad76-3cc872484e2b",
   "metadata": {
    "tags": []
   },
   "outputs": [
    {
     "data": {
      "image/png": "[encoded data removed]",
      "text/plain": [
       "<Figure size 792x432 with 1 Axes>"
      ]
     },
     "metadata": {},
     "output_type": "display_data"
    }
   ],
   "source": [
    "import matplotlib.pyplot as plt\n",
    "\n",
    "plt.figure(figsize=(11, 6))\n",
    "plt.plot(df.index, df['Portfolio'], color='blue', marker='o')\n",
    "plt.title('Portfolio Value Over Time')\n",
    "plt.xlabel('Date')\n",
    "plt.ylabel('Portfolio Value')\n",
    "plt.grid(True)\n",
    "plt.show()\n"
   ]
  },
  {
   "cell_type": "code",
   "execution_count": 19,
   "id": "d5d7b4cb-0e27-48d2-bd12-747cab0a64df",
   "metadata": {
    "tags": []
   },
   "outputs": [
    {
     "name": "stdout",
     "output_type": "stream",
     "text": [
      "[[0.13888889 0.72222222 0.13888889]\n",
      " [0.14649682 0.59872611 0.25477707]\n",
      " [0.125      0.67857143 0.19642857]]\n"
     ]
    }
   ],
   "source": [
    "import numpy as np\n",
    "\n",
    "transition_matrix = np.zeros((3, 3))  # 3 states: Bull,Flat,Bear or -1,0,1\n",
    "for i in range(1, len(df)):\n",
    "    current_state = df.at[df.index[i], 'State']\n",
    "    previous_state = df.at[df.index[i-1], 'State']\n",
    "\n",
    "    transition_matrix[previous_state + 1, current_state + 1] += 1\n",
    "\n",
    "transition_matrix = transition_matrix / np.sum(transition_matrix, axis=1, keepdims=True)\n",
    "print(transition_matrix)"
   ]
  },
  {
   "cell_type": "code",
   "execution_count": 20,
   "id": "a3e1503a-e6f1-4cfc-8ef0-d17288d75f83",
   "metadata": {
    "tags": []
   },
   "outputs": [
    {
     "name": "stdout",
     "output_type": "stream",
     "text": [
      "            close_price   Returns  State State_name  Portfolio\n",
      "Date                                                          \n",
      "2023-12-15     197.3182 -0.002726      0       Flat         18\n",
      "2023-12-18     195.6404 -0.008503      0       Flat         18\n",
      "2023-12-19     196.6890  0.005360      0       Flat         18\n",
      "2023-12-20     194.5817 -0.010714     -1       Bear         17\n",
      "2023-12-21     194.4319 -0.000770      0       Flat         17\n",
      "2023-12-22     193.3533 -0.005547      0       Flat         17\n",
      "2023-12-26     192.8040 -0.002841      0       Flat         17\n",
      "2023-12-27     192.9038  0.000518      0       Flat         17\n",
      "2023-12-28     193.3333  0.002226      0       Flat         17\n",
      "2023-12-29     192.2846 -0.005424      0       Flat         17\n",
      "            close_price   Returns  State State_name  Portfolio\n",
      "Date                                                          \n",
      "2023-01-03     124.2163       NaN     -1       Bear          0\n",
      "2023-01-04     125.4975  0.010314      1       Bull          0\n",
      "2023-01-05     124.1666 -0.010605     -1       Bear          0\n",
      "2023-01-06     128.7352  0.036794      1       Bull          0\n",
      "2023-01-09     129.2616  0.004089      0       Flat          0\n",
      "...                 ...       ...    ...        ...        ...\n",
      "2023-12-22     193.3533 -0.005547      0       Flat         17\n",
      "2023-12-26     192.8040 -0.002841      0       Flat         17\n",
      "2023-12-27     192.9038  0.000518      0       Flat         17\n",
      "2023-12-28     193.3333  0.002226      0       Flat         17\n",
      "2023-12-29     192.2846 -0.005424      0       Flat         17\n",
      "\n",
      "[250 rows x 5 columns]\n"
     ]
    }
   ],
   "source": [
    "df.to_csv(\"appleStock1.csv\")\n",
    "\n",
    "print(df.tail(10))\n",
    "print(df)"
   ]
  },
  {
   "cell_type": "markdown",
   "id": "188693a0-6a4a-4807-8ae7-a782c73f793b",
   "metadata": {},
   "source": [
    "# **Final Result**"
   ]
  },
  {
   "cell_type": "code",
   "execution_count": 178,
   "id": "ed74716e-9018-45bd-ab76-d00af451752b",
   "metadata": {
    "tags": []
   },
   "outputs": [
    {
     "name": "stdout",
     "output_type": "stream",
     "text": [
      "Optimal Buy Indices:  [6, 8, 12, 16, 21, 28, 30, 41, 50, 52, 59, 61, 69, 79, 85, 88, 94, 100, 103, 108, 110, 113, 117, 120, 123, 133, 142, 160, 164, 177, 187, 191, 207, 209, 212, 216, 218, 232, 234, 238]\n",
      "\n",
      "Maximum Portfolio Value V(N) :  40\n"
     ]
    }
   ],
   "source": [
    "#To maximize V(N)\n",
    "\n",
    "buy_indices = []\n",
    " \n",
    "# We will only buy when there is increment , to maximize the portfolio value V(N)...\n",
    "\n",
    "for i in range(0, len(df)):\n",
    "    current_state = df.at[df.index[i], 'State']\n",
    "    previous_state = df.at[df.index[i-1], 'State']\n",
    "    \n",
    "    if current_state == 1 and previous_state == 0:\n",
    "        buy_indices.append(i)\n",
    "        \n",
    "\n",
    "print(\"Optimal Buy Indices: \", buy_indices)\n",
    "print()\n",
    "print(\"Maximum Portfolio Value V(N) : \", len(buy_indices))\n"
   ]
  },
  {
   "cell_type": "code",
   "execution_count": null,
   "id": "ae5b54da-b24c-4e9b-99d2-bc2ab2db9885",
   "metadata": {},
   "outputs": [],
   "source": [
    "#If we consider increment in state -1 to 1 change condition in the above if statement\n",
    "#=>  if current_state == 1 and previous_state == 0 or current_state == 1 and previous_state == -1:  \n",
    "#=> O/P:45"
   ]
  },
  {
   "cell_type": "code",
   "execution_count": 185,
   "id": "3796f3bc-34d5-4e9c-b4f7-8028517f818c",
   "metadata": {
    "tags": []
   },
   "outputs": [
    {
     "data": {
      "image/png": "[encoded data removed]",
      "text/plain": [
       "<Figure size 576x432 with 1 Axes>"
      ]
     },
     "metadata": {},
     "output_type": "display_data"
    }
   ],
   "source": [
    "import matplotlib.pyplot as plt\n",
    "\n",
    "state_counts = df['State_name'].value_counts()\n",
    "\n",
    "plt.figure(figsize=(8, 6))\n",
    "state_counts.plot(kind='bar', color=['green', 'yellow', 'red'])\n",
    "plt.title('Count of Bull, Flat, and Bear States')\n",
    "plt.xlabel('State')\n",
    "plt.ylabel('Count')\n",
    "plt.xticks(rotation=0)\n",
    "plt.grid(axis='y', alpha=0.7)\n",
    "plt.show()\n"
   ]
  }
 ],
 "metadata": {
  "kernelspec": {
   "display_name": "Python 3.9",
   "language": "python",
   "name": "python3"
  },
  "language_info": {
   "codemirror_mode": {
    "name": "ipython",
    "version": 3
   },
   "file_extension": ".py",
   "mimetype": "text/x-python",
   "name": "python",
   "nbconvert_exporter": "python",
   "pygments_lexer": "ipython3",
   "version": "3.9.12"
  }
 },
 "nbformat": 4,
 "nbformat_minor": 5
}
